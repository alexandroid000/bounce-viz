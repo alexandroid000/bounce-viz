{
 "cells": [
  {
   "cell_type": "code",
   "execution_count": null,
   "metadata": {},
   "outputs": [],
   "source": [
    "from cyaron import *\n",
    "import matplotlib.pyplot as plt\n",
    "import numpy as np"
   ]
  },
  {
   "cell_type": "code",
   "execution_count": null,
   "metadata": {},
   "outputs": [],
   "source": [
    "# Vector.random(num=5, position_range=[10], mode=0, **kwargs):\n",
    "# mode 0=unique 1=repeatable 2=float\n",
    "poly = Polygon.simple_polygon(Vector.random(20, [400, 400], 2)).points"
   ]
  },
  {
   "cell_type": "code",
   "execution_count": null,
   "metadata": {},
   "outputs": [],
   "source": [
    "jet = plt.cm.jet\n",
    "colors = jet(np.linspace(0, 1, len(poly)))\n",
    "\n",
    "# plot only polygon, no axis or frame\n",
    "fig = plt.figure(frameon=False)\n",
    "ax = plt.gca()\n",
    "ax.axis('off')\n",
    "ax.axis('equal')\n",
    "outer_vxs = poly\n",
    "wall = np.vstack((outer_vxs, outer_vxs[0]))\n",
    "wall = np.vstack((wall, np.array([np.nan, np.nan])))\n",
    "\n",
    "plt.plot(wall[:, 0], wall[:, 1], 'black')\n",
    "def plot_vertices(vertices):\n",
    "    for index, vx in enumerate(vertices):\n",
    "        plt.scatter(vx[0], vx[1], color=colors[index], s=60)\n",
    "\n",
    "plt.show()"
   ]
  }
 ],
 "metadata": {
  "kernelspec": {
   "display_name": "Python 3",
   "language": "python",
   "name": "python3"
  },
  "language_info": {
   "codemirror_mode": {
    "name": "ipython",
    "version": 3
   },
   "file_extension": ".py",
   "mimetype": "text/x-python",
   "name": "python",
   "nbconvert_exporter": "python",
   "pygments_lexer": "ipython3",
   "version": "3.7.5"
  }
 },
 "nbformat": 4,
 "nbformat_minor": 4
}
