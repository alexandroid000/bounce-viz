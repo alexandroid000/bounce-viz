{
 "cells": [
  {
   "cell_type": "markdown",
   "metadata": {},
   "source": [
    "## Random Polygon Generation"
   ]
  },
  {
   "cell_type": "markdown",
   "metadata": {},
   "source": [
    "`pip install cyaron` should work "
   ]
  },
  {
   "cell_type": "code",
   "execution_count": 1,
   "metadata": {},
   "outputs": [],
   "source": [
    "from cyaron import Polygon, Vector\n",
    "import shapely\n",
    "import matplotlib.pyplot as plt\n",
    "import numpy as np\n",
    "import numpy.linalg as la"
   ]
  },
  {
   "cell_type": "markdown",
   "metadata": {},
   "source": [
    "### Visualization"
   ]
  },
  {
   "cell_type": "code",
   "execution_count": 2,
   "metadata": {},
   "outputs": [],
   "source": [
    "def draw_polygon(poly_point_list):\n",
    "    jet = plt.cm.jet\n",
    "    colors = jet(np.linspace(0, 1, len(poly_point_list)))\n",
    "\n",
    "    # plot only polygon, no axis or frame\n",
    "    fig = plt.figure(frameon=False)\n",
    "    ax = plt.gca()\n",
    "    ax.axis('off')\n",
    "    ax.axis('equal')\n",
    "    outer_vxs = poly_point_list\n",
    "    wall = np.vstack((outer_vxs, outer_vxs[0]))\n",
    "    wall = np.vstack((wall, np.array([np.nan, np.nan])))\n",
    "\n",
    "    plt.plot(wall[:, 0], wall[:, 1], 'black')\n",
    "    def plot_vertices(vertices):\n",
    "        for index, vx in enumerate(vertices):\n",
    "            plt.scatter(vx[0], vx[1], color=colors[index], s=60)\n",
    "\n",
    "    plt.show()"
   ]
  },
  {
   "cell_type": "markdown",
   "metadata": {},
   "source": [
    "## Method 1: Use the Cyaron library"
   ]
  },
  {
   "cell_type": "markdown",
   "metadata": {},
   "source": [
    "Generate a random set of points. Find a random poly line connecting the points by divide and conquer. The documentation for the library is not very good and only in Chinese, but the source [here](https://github.com/luogu-dev/cyaron/blob/master/cyaron/polygon.py) is not so hard to read."
   ]
  },
  {
   "cell_type": "markdown",
   "metadata": {},
   "source": [
    "Parameters in `Vector.random`: number of points, position range for each dimension, mode (0=unique 1=repeatable 2=float)."
   ]
  },
  {
   "cell_type": "code",
   "execution_count": 3,
   "metadata": {},
   "outputs": [
    {
     "data": {
      "image/png": "[encoded data removed]",
      "text/plain": [
       "<Figure size 432x288 with 1 Axes>"
      ]
     },
     "metadata": {
      "needs_background": "light"
     },
     "output_type": "display_data"
    }
   ],
   "source": [
    "poly = Polygon.simple_polygon(Vector.random(50, [800, 800], 2)).points\n",
    "draw_polygon(poly)"
   ]
  },
  {
   "cell_type": "markdown",
   "metadata": {},
   "source": [
    "## Method 2: the Stackoverflow answer with spikyness control."
   ]
  },
  {
   "cell_type": "markdown",
   "metadata": {},
   "source": [
    "This method can only generate star shaped polygons. The code is taken from [here](https://stackoverflow.com/questions/8997099/algorithm-to-generate-random-2d-polygon)."
   ]
  },
  {
   "cell_type": "code",
   "execution_count": 4,
   "metadata": {},
   "outputs": [],
   "source": [
    "import math, random\n",
    "\n",
    "def generatePolygon( ctrX, ctrY, aveRadius, irregularity, spikeyness, numVerts ) :\n",
    "    '''Start with the centre of the polygon at ctrX, ctrY, \n",
    "    then creates the polygon by sampling points on a circle around the centre. \n",
    "    Randon noise is added by varying the angular spacing between sequential points,\n",
    "    and by varying the radial distance of each point from the centre.\n",
    "\n",
    "    Params:\n",
    "    ctrX, ctrY - coordinates of the \"centre\" of the polygon\n",
    "    aveRadius - in px, the average radius of this polygon, this roughly controls how large the polygon is, really only useful for order of magnitude.\n",
    "    irregularity - [0,1] indicating how much variance there is in the angular spacing of vertices. [0,1] will map to [0, 2pi/numberOfVerts]\n",
    "    spikeyness - [0,1] indicating how much variance there is in each vertex from the circle of radius aveRadius. [0,1] will map to [0, aveRadius]\n",
    "    numVerts - self-explanatory\n",
    "\n",
    "    Returns a list of vertices, in CCW order.\n",
    "    '''\n",
    "\n",
    "    a = clip( irregularity, 0,1 ) * 2*math.pi / numVerts\n",
    "    spikeyness = clip( spikeyness, 0,1 ) * aveRadius\n",
    "\n",
    "    # generate n angle steps\n",
    "    angleSteps = []\n",
    "    lower = (2*math.pi / numVerts) - irregularity\n",
    "    upper = (2*math.pi / numVerts) + irregularity\n",
    "    sum = 0\n",
    "    for i in range(numVerts) :\n",
    "        tmp = random.uniform(lower, upper)\n",
    "        angleSteps.append( tmp )\n",
    "        sum = sum + tmp\n",
    "\n",
    "    # normalize the steps so that point 0 and point n+1 are the same\n",
    "    k = sum / (2*math.pi)\n",
    "    for i in range(numVerts) :\n",
    "        angleSteps[i] = angleSteps[i] / k\n",
    "\n",
    "    # now generate the points\n",
    "    points = []\n",
    "    angle = random.uniform(0, 2*math.pi)\n",
    "    for i in range(numVerts) :\n",
    "        r_i = clip( random.gauss(aveRadius, spikeyness), 0, 2*aveRadius )\n",
    "        x = ctrX + r_i*math.cos(angle)\n",
    "        y = ctrY + r_i*math.sin(angle)\n",
    "        points.append( (int(x),int(y)) )\n",
    "\n",
    "        angle = angle + angleSteps[i]\n",
    "\n",
    "    return points\n",
    "\n",
    "def clip(x, min, max) :\n",
    "    if( min > max ) :  return x    \n",
    "    elif( x < min ) :  return min\n",
    "    elif( x > max ) :  return max\n",
    "    else :             return x"
   ]
  },
  {
   "cell_type": "code",
   "execution_count": 5,
   "metadata": {},
   "outputs": [
    {
     "data": {
      "image/png": "[encoded data removed]",
      "text/plain": [
       "<Figure size 432x288 with 1 Axes>"
      ]
     },
     "metadata": {
      "needs_background": "light"
     },
     "output_type": "display_data"
    }
   ],
   "source": [
    "verts = generatePolygon( ctrX=250, ctrY=250, aveRadius=100, irregularity=0.35, spikeyness=0.3, numVerts=20 )\n",
    "draw_polygon(verts)"
   ]
  },
  {
   "cell_type": "markdown",
   "metadata": {},
   "source": [
    "## Method 3: RGP - Generation of Random Polygonal Objects"
   ]
  },
  {
   "cell_type": "markdown",
   "metadata": {},
   "source": [
    "The paper is [here]( http://citeseerx.ist.psu.edu/viewdoc/download?doi=10.1.1.56.5609&rep=rep1&type=pdf). For some reason the webpage for this project is not accessible anymore, so here is the Internet Wayback [link](https://web.archive.org/web/20190918003901/http://www.cosy.sbg.ac.at/~held/projects/rpg/rpg.html). I haven't read the paper yet but from the webpage their results is much more systematic than the above too. So it might worth to ask them for the code. "
   ]
  },
  {
   "cell_type": "markdown",
   "metadata": {},
   "source": [
    "## Method 4: Generate Convex Rooms Connected by Corridors"
   ]
  },
  {
   "cell_type": "markdown",
   "metadata": {},
   "source": [
    "Convex polygon generation solution from [here](https://stackoverflow.com/questions/6758083/how-to-generate-a-random-convex-polygon). I modified the code so that the polygon is centered at the origin."
   ]
  },
  {
   "cell_type": "code",
   "execution_count": 6,
   "metadata": {},
   "outputs": [],
   "source": [
    "import random\n",
    "from math import atan2\n",
    "\n",
    "\n",
    "def to_convex_contour(vertices_count,\n",
    "                      x_generator=random.random,\n",
    "                      y_generator=random.random):\n",
    "    \"\"\"\n",
    "    Port of Valtr algorithm by Sander Verdonschot.\n",
    "\n",
    "    Reference:\n",
    "        http://cglab.ca/~sander/misc/ConvexGeneration/ValtrAlgorithm.java\n",
    "\n",
    "    >>> contour = to_convex_contour(20)\n",
    "    >>> len(contour) == 20\n",
    "    True\n",
    "    \"\"\"\n",
    "    xs = [x_generator() for _ in range(vertices_count)]\n",
    "    ys = [y_generator() for _ in range(vertices_count)]\n",
    "    xs = sorted(xs)\n",
    "    ys = sorted(ys)\n",
    "    min_x, *xs, max_x = xs\n",
    "    min_y, *ys, max_y = ys\n",
    "    vectors_xs = _to_vectors_coordinates(xs, min_x, max_x)\n",
    "    vectors_ys = _to_vectors_coordinates(ys, min_y, max_y)\n",
    "    random.shuffle(vectors_ys)\n",
    "\n",
    "    def to_vector_angle(vector):\n",
    "        x, y = vector\n",
    "        return atan2(y, x)\n",
    "\n",
    "    vectors = sorted(zip(vectors_xs, vectors_ys),\n",
    "                     key=to_vector_angle)\n",
    "    point_x = point_y = 0\n",
    "    cm_polygon_x = cm_polygon_y = 0\n",
    "    points = []\n",
    "    for vector_x, vector_y in vectors:\n",
    "        points.append((point_x, point_y))\n",
    "        point_x += vector_x\n",
    "        point_y += vector_y\n",
    "        cm_polygon_x += point_x\n",
    "        cm_polygon_y += point_y\n",
    "    cm_polygon_x /= len(points)\n",
    "    cm_polygon_y /= len(points)\n",
    "\n",
    "    return np.array([[point_x - cm_polygon_x, point_y - cm_polygon_y]\n",
    "            for point_x, point_y in points])\n",
    "\n",
    "\n",
    "def _to_vectors_coordinates(coordinates, min_coordinate, max_coordinate):\n",
    "    last_min = last_max = min_coordinate\n",
    "    result = []\n",
    "    for coordinate in coordinates:\n",
    "        if _to_random_boolean():\n",
    "            result.append(coordinate - last_min)\n",
    "            last_min = coordinate\n",
    "        else:\n",
    "            result.append(last_max - coordinate)\n",
    "            last_max = coordinate\n",
    "    result.extend((max_coordinate - last_min,\n",
    "                   last_max - max_coordinate))\n",
    "    return result\n",
    "\n",
    "\n",
    "def _to_random_boolean():\n",
    "    return random.getrandbits(1)"
   ]
  },
  {
   "cell_type": "code",
   "execution_count": 7,
   "metadata": {},
   "outputs": [
    {
     "data": {
      "image/png": "[encoded data removed]",
      "text/plain": [
       "<Figure size 432x288 with 1 Axes>"
      ]
     },
     "metadata": {
      "needs_background": "light"
     },
     "output_type": "display_data"
    }
   ],
   "source": [
    "num_rooms = 15\n",
    "corridors_map = np.array(Polygon.simple_polygon(Vector.random(num_rooms, [800, 800], 2)).points)\n",
    "draw_polygon(corridors_map)"
   ]
  },
  {
   "cell_type": "markdown",
   "metadata": {},
   "source": [
    "I use a randomly generated polygon as the room connection map for now. We can also triangulate the polygon to get more corridors or manually specify this. "
   ]
  },
  {
   "cell_type": "code",
   "execution_count": 8,
   "metadata": {},
   "outputs": [
    {
     "data": {
      "image/svg+xml": [
       "<svg xmlns=\"http://www.w3.org/2000/svg\" xmlns:xlink=\"http://www.w3.org/1999/xlink\" width=\"300\" height=\"300\" viewBox=\"-21.276598631727744 -42.7819184384712 869.9586524800648 854.2277530535658\" preserveAspectRatio=\"xMinYMin meet\"><g transform=\"matrix(1,0,0,-1,0,768.6639161766235)\"><path fill-rule=\"evenodd\" fill=\"#66cc99\" stroke=\"#555555\" stroke-width=\"5.799724349867098\" opacity=\"0.6\" d=\"M 173.01247607247458,49.76267544862512 L 177.0932589974841,26.876388615928544 L 175.53721439978568,-3.9149299195146057 L 172.49493231942753,-4.689668706384737 L 157.94422530498883,-7.769263370625012 L 143.09567249266036,-10.561227605876212 L 129.42398003036436,-4.173273977686726 L 104.38517158744443,8.588580217571128 L 92.67993792919363,22.460942630215428 L 88.16162243426231,28.916286424866954 L 82.54917698344745,50.62498314014488 L 80.80911190335888,61.051599243995355 L 79.81227389741963,67.60269931204584 L 89.6234057865673,82.51358677951887 L 91.75317116200364,84.26214784798583 L 95.56354012373376,86.65089570046595 L 113.6510351498508,93.09162860666744 L 139.69951591744376,90.44302460141724 L 155.03453332651196,86.45276609876039 L 162.204745039216,75.58216469727537 L 165.63114727904988,68.66970924570005 L 261.1018685195861,119.44978178174333 L 265.07326874316215,143.4642710179 L 275.29970178177945,165.61223844258922 L 286.6492838773498,181.76880467722313 L 292.6405262624314,186.3903179134624 L 298.92200979493174,189.10673456952628 L 302.3799131234596,190.27483613343466 L 313.3372200389729,190.6174567553752 L 333.06288723831045,187.5295406581324 L 502.55671866769103,537.4858503381909 L 495.02816960825567,539.5463200325252 L 474.50621134885495,547.8588874104022 L 324.6230469317256,431.7051702066027 L 324.75424644075474,425.14245323421795 L 324.66965285904695,420.0657810373098 L 323.0178482381981,417.48682333879145 L 322.9179151856831,417.37320000483584 L 321.4892679184969,416.2987229292438 L 318.1126016152056,416.6912949167623 L 311.2325508290279,419.4967463393836 L 310.1663551240618,420.49589949637175 L 306.9853612839395,424.1010940322856 L 305.8932539433227,426.2946779522646 L 305.2219681917462,428.2657051727227 L 305.0844834180206,428.93127925335705 L 281.378652714606,440.172728458611 L 272.26052101185695,439.0919260039096 L 264.1552296676093,439.6553665008192 L 262.1062502083457,440.0206923237335 L 261.0569474035521,440.4350574824875 L 261.10454421802234,442.86866105762334 L 263.1177750276181,446.43520087268564 L 263.2600005422443,446.6470202716908 L 75.44577739600062,488.55657647744584 L 75.16589812765758,482.850713376436 L 75.1169370269547,482.01545029408203 L 70.38162620395082,476.5043067802295 L 69.29544866537282,475.76161615722526 L 57.37051830181508,470.0924488057005 L 48.00584136851129,465.7438985437549 L 37.43910335749672,462.81154844985485 L 17.276373615814823,472.01265239929074 L 12.413359435295263,480.3439967651144 L 10.944092200867246,489.19574719264386 L 11.428011598504455,495.52410108108785 L 24.486433900200687,514.2234847991091 L 28.819892377389724,519.7115973567138 L 32.24049977490666,523.3906564647039 L 34.19700051564713,524.7248644493433 L 46.07780900977116,527.9826131493288 L 56.09616698254807,527.6706263979544 L 58.77378969057478,526.3661321263453 L 68.15923899408615,521.7093336556713 L 121.71360874616886,571.9839565776465 L 111.816124483598,593.4964447266087 L 109.7439043462962,608.2964913258459 L 112.13517547601569,616.172866860308 L 81.96475632761965,615.5847371632758 L 81.93652610246804,615.543499231646 L 76.37696325593579,610.5968517749413 L 75.43776325791015,609.7745409718668 L 74.45098437001022,609.286585503191 L 66.9233351058167,606.3765145461593 L 59.88384648566484,606.4633978010211 L 58.37690987056606,606.5779672824117 L 58.20430490557335,608.9562973475822 L 58.27222384467402,612.4649892519142 L 58.49621175537689,613.540011670906 L 58.9098456703701,614.6092552088553 L 61.86471710671242,622.0089463860079 L 67.20614158957099,629.5077381842901 L 69.6802912058562,629.8951824290027 L 73.6689151134837,629.8882660795582 L 76.87258804399431,629.5702320060959 L 79.45642941891228,628.253025860639 L 81.40589461406523,627.2191164295488 L 83.19691294401561,625.4175374707083 L 83.30081925262981,623.2367828463392 L 120.59068042939728,632.1825693388826 L 124.30574363566375,633.9222002607568 L 125.90093920740495,633.4564931280601 L 574.522293928678,741.0801401110211 L 574.5621411636869,741.2105513551587 L 591.718719096516,770.9660156752659 L 597.3120033184324,776.5141285318085 L 599.4444377047031,778.024340935735 L 602.3671644523387,779.2251437824997 L 621.0726667168019,777.9788564681791 L 628.8096549151411,775.0692963545791 L 634.5973416111977,770.6386367086895 L 640.2476117596301,761.4826490235109 L 642.4472815914347,751.9706128805166 L 641.7792194702212,746.6322409962323 L 737.600158809506,740.084104607739 L 740.6122330073165,750.1962111555156 L 772.1839965537922,770.4909747963163 L 772.7552929405011,770.8560632941283 L 778.6323876175718,773.1212134614722 L 781.1706859237015,773.5333849920312 L 793.2298691338942,774.3437954295306 L 801.4658934859388,765.8393520304869 L 804.3924992894094,751.8072732601272 L 811.8508371875233,711.5272584046256 L 812.6533865294252,704.1228305494324 L 802.2884059441348,700.1325660370964 L 794.5484280331207,698.0013298234164 L 775.0154934901476,698.7150692840705 L 793.286735290906,474.3391563232646 L 794.4419296478003,474.6060995093961 L 797.6230934998475,475.2656986797496 L 812.1449097417724,475.42736787259673 L 815.9042940878846,474.8600085026358 L 816.461363015742,459.0011285330858 L 815.727770163919,450.8437807401316 L 813.8274496301384,437.9860603009564 L 811.8349963484948,429.31017638093425 L 811.1927393456019,427.22264746935355 L 809.9920023786814,424.655284308454 L 808.3433777882614,421.6942883685722 L 802.1390988848262,417.6176148962713 L 792.6868745030043,417.2920778524966 L 790.8344349497662,418.107853375447 L 778.4696812032208,344.52950800780525 L 789.8621963258001,341.318123374898 L 792.0084848605087,339.92572513790253 L 803.555595104855,330.83983940239165 L 802.4066958229001,308.71000189704205 L 801.3409857901788,305.0229672555084 L 798.8091003394701,301.8358968657922 L 792.5589810765435,295.6078521051472 L 789.0843707262245,293.5819209663009 L 782.4612029926815,291.86581107304346 L 770.0273449191063,291.3596040231185 L 752.1241399139575,290.9768325778217 L 746.7211674171797,293.6806970371639 L 745.5746387375515,300.9203662895275 L 397.10164227736715,100.77023072549859 L 397.96894457654366,99.64178310178028 L 407.8044241300207,83.13813695979195 L 411.0027268797105,77.28995999598473 L 411.64616951153374,47.98882031738735 L 411.1192038988673,36.84810877210656 L 399.6652246229772,28.977738443440373 L 377.4060429015219,23.754127693428956 L 358.01025632638374,23.501790666380025 L 330.85413210065417,31.433908128804383 L 318.536773987029,39.14766921881695 L 309.1987513393121,58.291625845077164 L 306.9132228739998,71.10876641041732 L 173.01247607247458,49.76267544862512 z M 507.14194067803385,536.2309324357477 L 337.8899242306202,186.7739015672001 L 341.83290235027624,186.15665574815014 L 354.8787295934726,179.64218417830324 L 356.73597726070363,175.23261333071233 L 357.482101526348,173.01122028847536 L 359.02260395762977,134.1237263414415 L 365.4109772809682,132.68725098939385 L 373.40618717620737,129.92444454036047 L 394.19906822721396,104.54677183771726 L 394.2278154100444,104.50936885817435 L 744.8891115391378,305.9163836634531 L 744.383105240252,312.02938870359213 L 744.2307294892681,335.3319802890985 L 744.4851349041587,340.78285062243447 L 747.4227507619116,350.3308929574929 L 756.0867315941375,349.8848860569533 L 759.6504110361701,349.26812015204484 L 772.7969477802606,346.12856921115343 L 773.9447921043097,345.80500855895684 L 786.4217602500129,420.05110275408873 L 769.7194105165041,427.4064672325334 L 765.3371435317447,433.924737909069 L 761.7561806083975,440.4197424171188 L 760.2176741373967,445.9012643206305 L 758.5216743570201,457.27363487939044 L 764.8897488390178,465.4933280090486 L 781.5968344017782,471.6378451800085 L 788.6841712579527,473.2755923437505 L 770.3123275651461,698.8869244194724 L 768.8227101578719,698.9413554995801 L 740.7990489680371,706.305357684533 L 737.9147627765133,711.5515834075316 L 735.246556299836,722.4171674450698 L 735.3186233952486,723.2781189514149 L 736.1181505237324,731.9045463794702 L 736.4123924527283,734.5251208198787 L 736.5703593671583,735.4698766082304 L 641.1979434409424,741.9873621546168 L 640.6593423297213,737.6834913951674 L 633.3064515682211,731.1279655428234 L 623.7935257598177,724.3112792726702 L 615.5429083191005,720.1355216400902 L 606.9646699552019,716.7027638721265 L 599.5106646976581,716.010420172883 L 585.0156338678294,714.7795275479543 L 572.6849963887337,728.095768226508 L 571.4890144437775,729.9226276101186 L 571.3213559467589,730.6041734715201 L 572.9375604804329,735.893655764841 L 133.30615432378912,630.4266850981819 L 134.81982887940092,629.609155874402 L 134.88205454368457,629.4088964248338 L 136.3078734325267,622.9803119959387 L 136.43853056684893,622.2366380343165 L 270.52391442226104,635.6317198856873 L 272.02603825176857,641.8903431523969 L 274.7219772616578,647.420524090753 L 279.3564495958209,652.731517328587 L 293.9883137777433,663.4845458163761 L 298.40669427620287,665.2857247241061 L 324.62167011337357,666.4683342213284 L 330.20921164428063,663.2727921609069 L 332.03463536789866,661.3427232181699 L 331.90510424488247,656.004653998002 L 331.31092456596537,650.6273702531554 L 327.6965748996941,639.7783626634077 L 325.21263568411683,632.982652451955 L 317.2607562838645,622.0556908372118 L 304.91144323618596,609.7880082543261 L 293.0058992577775,602.7117673678673 L 284.77234503826645,598.1654645792601 L 272.81771665252387,601.7099932767081 L 270.4211558222944,607.8135868124327 L 268.3216478248282,616.1581579652453 L 267.97761845440147,624.6044007197045 L 175.00397405133663,597.9412718524129 L 177.42964645762257,587.4371002032693 L 175.58902970697565,584.3692902053759 L 170.83734269991638,577.2561950911224 L 168.96527898374,574.5079807224718 L 162.09339639281546,568.938787867512 L 154.19944248052767,564.6864932376533 L 139.42266177146416,562.4260921313036 L 132.52220069405988,563.7395691488371 L 127.15651227029582,565.7174504383465 L 124.54715162807365,568.2335527497406 L 72.6266439108496,519.4927317955471 L 74.58961074217902,518.5187623410748 L 76.77614060375737,515.6785222472067 L 75.67812300371747,493.29337687571035 L 266.5351862558153,450.70483014248003 L 267.05187093115023,451.2403483548765 L 270.65257748893833,452.4898382838921 L 271.08841051866506,452.6191469425547 L 274.0987033309279,453.4232922383775 L 275.4178021365959,453.6974105606573 L 276.29662692811286,453.737190768492 L 281.9520786992422,453.1174174934599 L 283.54313999724604,449.52672278643263 L 284.01955562685936,446.53601828542406 L 284.2002513957986,444.0072771172044 L 305.65583663035,433.8329080094192 L 306.39616597972037,437.34257048495147 L 306.8061272277667,437.58657735487924 L 312.6437548259721,437.12049559974133 L 313.7937552207142,436.9573162513827 L 320.40846319303694,434.3518905586573 L 469.49539228605664,549.8885558538989 L 467.0709502330151,550.8705936138887 L 466.9399855474748,556.8468998980117 L 466.3464714629239,606.6926229982774 L 467.74225344026996,618.3951803100498 L 476.6446716924178,627.8752476081618 L 504.3678313606324,643.8144366898714 L 521.0517569268435,652.4094646960259 L 525.6421672308027,652.4997188167389 L 533.0431035408164,649.8583694138692 L 543.7995281752517,644.7096772497334 L 573.067998983488,630.6691642179475 L 583.1022024532402,625.5525842907729 L 600.8889672942963,610.9543488063811 L 603.4537505314377,604.3823620533644 L 599.519821304589,564.0387376832875 L 590.8051935156092,543.6159009663293 L 589.2648501707727,540.4923590897642 L 561.9952682891222,537.7632352705114 L 508.2794967520043,535.9195975692924 L 507.14194067803385,536.2309324357477 z M 261.69934413228896,114.47388019209035 L 167.70767502816855,64.48050303025043 L 171.8941284100018,56.03471340123652 L 172.19192429005892,54.36458243523652 L 306.09262087904415,75.71066539228288 L 302.99642447703246,93.07399518877345 L 303.1244657843054,95.08325412217069 L 275.48563572840203,95.05563838102026 L 267.52462277364594,105.90378535404037 L 261.69934413228896,114.47388019209035 z M 156.85932437757785,619.5797029946694 L 160.10037020557846,618.266636795635 L 173.15823439362345,602.2740431760528 L 269.1230472356195,629.794984061611 L 269.3689087886186,630.8193702045925 L 156.85932437757785,619.5797029946694 z M 91.71667566986058,620.449426276794 L 114.39726830080468,620.8915523873707 L 114.59662180080757,621.948820835579 L 115.46251390915002,626.1460202643174 L 91.71667566986058,620.449426276794 z\" /></g></svg>"
      ],
      "text/plain": [
       "<shapely.geometry.polygon.Polygon at 0x120290690>"
      ]
     },
     "execution_count": 8,
     "metadata": {},
     "output_type": "execute_result"
    }
   ],
   "source": [
    "from shapely.ops import cascaded_union\n",
    "\n",
    "polygon_list = []\n",
    "min_room_size = 800\n",
    "# Get convex rooms\n",
    "for i in range(num_rooms):\n",
    "    poly = to_convex_contour(20)\n",
    "    room_size = 0.5 * min(la.norm(corridors_map[i] - corridors_map[(i+1)%num_rooms]), la.norm(corridors_map[i] - corridors_map[i-1]))\n",
    "    poly *= room_size\n",
    "    poly = np.array([point + corridors_map[i] for point in poly])\n",
    "    polygon_list.append(shapely.geometry.Polygon(poly))\n",
    "    min_room_size = min(min_room_size, room_size)\n",
    "\n",
    "# Get corridors\n",
    "for i in range(num_rooms):\n",
    "    corridor_direction = corridors_map[i] - corridors_map[i-1]\n",
    "    corridor_width_direction = np.array([corridor_direction[1], -corridor_direction[0]])\n",
    "    corridor_width_direction /= la.norm(corridor_width_direction)\n",
    "    corridor_width = min_room_size * 0.1\n",
    "    corridor_point_list = [corridors_map[i] + corridor_width_direction * corridor_width, corridors_map[i-1] + corridor_width_direction * corridor_width, corridors_map[i-1] - corridor_width_direction * corridor_width, corridors_map[i] - corridor_width_direction * corridor_width]\n",
    "    polygon_list.append(shapely.geometry.Polygon(corridor_point_list))\n",
    "\n",
    "cascaded_union(polygon_list)"
   ]
  }
 ],
 "metadata": {
  "kernelspec": {
   "display_name": "Python 3",
   "language": "python",
   "name": "python3"
  },
  "language_info": {
   "codemirror_mode": {
    "name": "ipython",
    "version": 3
   },
   "file_extension": ".py",
   "mimetype": "text/x-python",
   "name": "python",
   "nbconvert_exporter": "python",
   "pygments_lexer": "ipython3",
   "version": "3.7.5"
  }
 },
 "nbformat": 4,
 "nbformat_minor": 4
}
