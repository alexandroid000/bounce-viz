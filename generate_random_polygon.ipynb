{
 "cells": [
  {
   "cell_type": "markdown",
   "metadata": {},
   "source": [
    "## Random Polygon Generation"
   ]
  },
  {
   "cell_type": "markdown",
   "metadata": {},
   "source": [
    "`pip install cyaron` should work "
   ]
  },
  {
   "cell_type": "code",
   "execution_count": 1,
   "metadata": {},
   "outputs": [],
   "source": [
    "from cyaron import Polygon, Vector\n",
    "import matplotlib.pyplot as plt\n",
    "import numpy as np"
   ]
  },
  {
   "cell_type": "markdown",
   "metadata": {},
   "source": [
    "### Visualization"
   ]
  },
  {
   "cell_type": "code",
   "execution_count": 2,
   "metadata": {},
   "outputs": [],
   "source": [
    "def draw_polygon(poly_point_list):\n",
    "    jet = plt.cm.jet\n",
    "    colors = jet(np.linspace(0, 1, len(poly_point_list)))\n",
    "\n",
    "    # plot only polygon, no axis or frame\n",
    "    fig = plt.figure(frameon=False)\n",
    "    ax = plt.gca()\n",
    "    ax.axis('off')\n",
    "    ax.axis('equal')\n",
    "    outer_vxs = poly_point_list\n",
    "    wall = np.vstack((outer_vxs, outer_vxs[0]))\n",
    "    wall = np.vstack((wall, np.array([np.nan, np.nan])))\n",
    "\n",
    "    plt.plot(wall[:, 0], wall[:, 1], 'black')\n",
    "    def plot_vertices(vertices):\n",
    "        for index, vx in enumerate(vertices):\n",
    "            plt.scatter(vx[0], vx[1], color=colors[index], s=60)\n",
    "\n",
    "    plt.show()"
   ]
  },
  {
   "cell_type": "markdown",
   "metadata": {},
   "source": [
    "## Method 1: Use the Cyaron library"
   ]
  },
  {
   "cell_type": "markdown",
   "metadata": {},
   "source": [
    "Generate a random set of points. Find a random poly line connecting the points by divide and conquer. The documentation for the library is not very good and only in Chinese, but the source [here](https://github.com/luogu-dev/cyaron/blob/master/cyaron/polygon.py) is not so hard to read."
   ]
  },
  {
   "cell_type": "markdown",
   "metadata": {},
   "source": [
    "Parameters in `Vector.random`: number of points, position range for each dimension, mode (0=unique 1=repeatable 2=float)."
   ]
  },
  {
   "cell_type": "code",
   "execution_count": 3,
   "metadata": {},
   "outputs": [
    {
     "data": {
      "image/png": "[encoded data removed]",
      "text/plain": [
       "<Figure size 432x288 with 1 Axes>"
      ]
     },
     "metadata": {
      "needs_background": "light"
     },
     "output_type": "display_data"
    }
   ],
   "source": [
    "poly = Polygon.simple_polygon(Vector.random(50, [800, 800], 2)).points\n",
    "draw_polygon(poly)"
   ]
  },
  {
   "cell_type": "markdown",
   "metadata": {},
   "source": [
    "## Method 2: the Stackoverflow answer with spikyness control."
   ]
  },
  {
   "cell_type": "markdown",
   "metadata": {},
   "source": [
    "This method can only generate star shaped polygons. The code is taken from [here](https://stackoverflow.com/questions/8997099/algorithm-to-generate-random-2d-polygon)."
   ]
  },
  {
   "cell_type": "code",
   "execution_count": 4,
   "metadata": {},
   "outputs": [],
   "source": [
    "import math, random\n",
    "\n",
    "def generatePolygon( ctrX, ctrY, aveRadius, irregularity, spikeyness, numVerts ) :\n",
    "    '''Start with the centre of the polygon at ctrX, ctrY, \n",
    "    then creates the polygon by sampling points on a circle around the centre. \n",
    "    Randon noise is added by varying the angular spacing between sequential points,\n",
    "    and by varying the radial distance of each point from the centre.\n",
    "\n",
    "    Params:\n",
    "    ctrX, ctrY - coordinates of the \"centre\" of the polygon\n",
    "    aveRadius - in px, the average radius of this polygon, this roughly controls how large the polygon is, really only useful for order of magnitude.\n",
    "    irregularity - [0,1] indicating how much variance there is in the angular spacing of vertices. [0,1] will map to [0, 2pi/numberOfVerts]\n",
    "    spikeyness - [0,1] indicating how much variance there is in each vertex from the circle of radius aveRadius. [0,1] will map to [0, aveRadius]\n",
    "    numVerts - self-explanatory\n",
    "\n",
    "    Returns a list of vertices, in CCW order.\n",
    "    '''\n",
    "\n",
    "    a = clip( irregularity, 0,1 ) * 2*math.pi / numVerts\n",
    "    spikeyness = clip( spikeyness, 0,1 ) * aveRadius\n",
    "\n",
    "    # generate n angle steps\n",
    "    angleSteps = []\n",
    "    lower = (2*math.pi / numVerts) - irregularity\n",
    "    upper = (2*math.pi / numVerts) + irregularity\n",
    "    sum = 0\n",
    "    for i in range(numVerts) :\n",
    "        tmp = random.uniform(lower, upper)\n",
    "        angleSteps.append( tmp )\n",
    "        sum = sum + tmp\n",
    "\n",
    "    # normalize the steps so that point 0 and point n+1 are the same\n",
    "    k = sum / (2*math.pi)\n",
    "    for i in range(numVerts) :\n",
    "        angleSteps[i] = angleSteps[i] / k\n",
    "\n",
    "    # now generate the points\n",
    "    points = []\n",
    "    angle = random.uniform(0, 2*math.pi)\n",
    "    for i in range(numVerts) :\n",
    "        r_i = clip( random.gauss(aveRadius, spikeyness), 0, 2*aveRadius )\n",
    "        x = ctrX + r_i*math.cos(angle)\n",
    "        y = ctrY + r_i*math.sin(angle)\n",
    "        points.append( (int(x),int(y)) )\n",
    "\n",
    "        angle = angle + angleSteps[i]\n",
    "\n",
    "    return points\n",
    "\n",
    "def clip(x, min, max) :\n",
    "    if( min > max ) :  return x    \n",
    "    elif( x < min ) :  return min\n",
    "    elif( x > max ) :  return max\n",
    "    else :             return x"
   ]
  },
  {
   "cell_type": "code",
   "execution_count": 5,
   "metadata": {},
   "outputs": [
    {
     "data": {
      "image/png": "[encoded data removed]",
      "text/plain": [
       "<Figure size 432x288 with 1 Axes>"
      ]
     },
     "metadata": {
      "needs_background": "light"
     },
     "output_type": "display_data"
    }
   ],
   "source": [
    "verts = generatePolygon( ctrX=250, ctrY=250, aveRadius=100, irregularity=0.35, spikeyness=0.3, numVerts=20 )\n",
    "draw_polygon(verts)"
   ]
  },
  {
   "cell_type": "markdown",
   "metadata": {},
   "source": [
    "## Method 3: RGP - Generation of Random Polygonal Objects"
   ]
  },
  {
   "cell_type": "markdown",
   "metadata": {},
   "source": [
    "The paper is [here]( http://citeseerx.ist.psu.edu/viewdoc/download?doi=10.1.1.56.5609&rep=rep1&type=pdf). For some reason the webpage for this project is not accessible anymore, so here is the Internet Wayback [link](https://web.archive.org/web/20190918003901/http://www.cosy.sbg.ac.at/~held/projects/rpg/rpg.html). I haven't read the paper yet but from the webpage their results is much more systematic than the above too. So it might worth to ask them for the code. "
   ]
  }
 ],
 "metadata": {
  "kernelspec": {
   "display_name": "Python 3",
   "language": "python",
   "name": "python3"
  },
  "language_info": {
   "codemirror_mode": {
    "name": "ipython",
    "version": 3
   },
   "file_extension": ".py",
   "mimetype": "text/x-python",
   "name": "python",
   "nbconvert_exporter": "python",
   "pygments_lexer": "ipython3",
   "version": "3.7.5"
  }
 },
 "nbformat": 4,
 "nbformat_minor": 4
}
